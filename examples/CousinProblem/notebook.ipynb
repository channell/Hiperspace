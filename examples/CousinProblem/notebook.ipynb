{
 "cells": [
  {
   "cell_type": "markdown",
   "metadata": {},
   "source": [
    "# Setup references\n",
    "\n",
    "references are added to the Hiperspace and Mermaid nuget packages, together with `CousinProblem.dll` (compiled with `dotnet build` in the download directory)\n",
    "\n",
    "For this simple example, we're using the ` HeapSpace` driver (intended for mock and session usage), but the ` Hiperspace.Rocks` driver would be used for massive datasets"
   ]
  },
  {
   "cell_type": "code",
   "execution_count": 8,
   "metadata": {
    "dotnet_interactive": {
     "language": "fsharp"
    },
    "polyglot_notebook": {
     "kernelName": "fsharp"
    }
   },
   "outputs": [
    {
     "data": {
      "text/html": [
       "<div><div></div><div></div><div><strong>Installed Packages</strong><ul><li><span>Hiperspace, 1.2.18</span></li><li><span>Hiperspace.Heap, 1.2.12</span></li><li><span>Microsoft.DotNet.Interactive.Mermaid, 1.0.0-beta.24229.4</span></li></ul></div></div>"
      ]
     },
     "metadata": {},
     "output_type": "display_data"
    }
   ],
   "source": [
    "#r \"nuget: Hiperspace\"\n",
    "#r \"nuget: Hiperspace.Heap\"\n",
    "#r \"./bin/debug/net8.0/CousinProblem.dll\"\n",
    "#r \"nuget: Microsoft.DotNet.Interactive.Mermaid, 1.0.0-beta.24229.4\"\n",
    ";;\n"
   ]
  },
  {
   "cell_type": "markdown",
   "metadata": {},
   "source": [
    "# Setup sample data\n",
    "The same Sample Family tree from test cases, converted to F# syntax\n",
    "\n",
    "![Model](cousins-white.svg \"Title\")\n"
   ]
  },
  {
   "cell_type": "code",
   "execution_count": 10,
   "metadata": {
    "dotnet_interactive": {
     "language": "fsharp"
    },
    "polyglot_notebook": {
     "kernelName": "fsharp"
    }
   },
   "outputs": [],
   "source": [
    "open Hiperspace\n",
    "open Hiperspace.Heap\n",
    "open Cousins\n",
    "open Microsoft.DotNet.Interactive.Mermaid\n",
    "\n",
    "let driver = new HeapSpace()\n",
    "let space = new CousinsSpace (driver)\n",
    "\n",
    "let tree = \n",
    "  [\n",
    "    Person (Name = \"Eve\", Gender = Gender.Female);\n",
    "    Person (Name = \"Jane\", Gender = Gender.Female, Mother =  Person (Name = \"Eve\" ));\n",
    "    Person (Name = \"Jack\", Gender = Gender.Male, Mother =  Person (Name = \"Eve\" ));\n",
    "    Person (Name = \"Adam\", Gender = Gender.Male, Father =  Person (Name = \"Jack\" ));\n",
    "    Person (Name = \"Liz\", Gender = Gender.Female, Father =  Person (Name = \"Adam\" ));\n",
    "    Person (Name = \"Mary\", Gender = Gender.Female, Mother =  Person (Name = \"Jane\" ));\n",
    "    Person (Name = \"Burt\", Gender = Gender.Male, Mother=  Person (Name = \"Jane\" ));\n",
    "    Person (Name = \"Rob\", Gender = Gender.Male, Father =  Person (Name = \"Burt\" ));\n",
    "    Person (Name = \"John\", Gender = Gender.Male);\n",
    "    Person (Name = \"Lucy\", Gender = Gender.Female, Father =  Person (Name = \"John\" ), Mother =  Person (Name = \"Mary\" ));\n",
    "    Person (Name = \"Mark\", Gender = Gender.Male, Father =  Person (Name = \"John\" ), Mother =  Person (Name = \"Mary\"));\n",
    "  ]\n",
    "\n",
    "tree\n",
    "|> List.iter (fun i -> space.Persons.Bind (i, false) |> ignore)\n",
    ";;"
   ]
  },
  {
   "cell_type": "markdown",
   "metadata": {},
   "source": [
    "# simple graph\n",
    "\n",
    "`space.Nodes` is a view of all entity / segment / aspect that provide a mapping to the view. `nodes` a translation to Mermaid markup syntax,\n",
    "`space.Edges` is a view of all entity / segment / aspect that provide a mapping to the Edge view.  In this case, four elements per person (via `Edge2/3/4` intermediate views)\n",
    "\n",
    "```\n",
    "entity Cousins.Person\n",
    "    = Node (),\n",
    "      Edge  (From = this,   To = Mother, Name = Name, TypeName = \"Mother\"),\n",
    "      Edge2 (From = this,   To = Father, Name = Name, TypeName = \"Father\"),\n",
    "      Edge3 (From = Father, To = this,   Name = Name, TypeName = \"Child\"),\n",
    "      Edge4 (From = Mother, To = this,   Name = Name, TypeName = \"Child\")\n",
    "```\n",
    "\n",
    "When viewed as a graph, edges projected for Mother/Father and  Child relations\n",
    "\n",
    "The content is then rendered using  Mermaid visualization code"
   ]
  },
  {
   "cell_type": "code",
   "execution_count": 13,
   "metadata": {
    "dotnet_interactive": {
     "language": "fsharp"
    },
    "polyglot_notebook": {
     "kernelName": "fsharp"
    }
   },
   "outputs": [
    {
     "data": {
      "text/html": [
       "<div class=\"mermaidMarkdownContainer\" style=\"background-color:white\">\r\n",
       "<link rel=\"stylesheet\" href=\"https://cdnjs.cloudflare.com/ajax/libs/font-awesome/6.2.0/css/all.min.css\">\r\n",
       "<div id=\"2a706519662c4118ba426fcfaaf4cbe0\"></div>\r\n",
       "<script type=\"module\">\r\n",
       "\r\n",
       "            import mermaid from 'https://cdn.jsdelivr.net/npm/mermaid@10.6.1/dist/mermaid.esm.min.mjs';\r\n",
       "            let renderTarget = document.getElementById('2a706519662c4118ba426fcfaaf4cbe0');\r\n",
       "            try {\r\n",
       "                const {svg, bindFunctions} = await mermaid.mermaidAPI.render( \r\n",
       "                    'mermaid_2a706519662c4118ba426fcfaaf4cbe0', \r\n",
       "                    `\r\n",
       "flowchart TD \r\n",
       "    UgYKBEFkYW0(\"Adam (Person)\")\n",
       "    UgYKBEJ1cnQ(\"Burt (Person)\")\n",
       "    UgUKA0V2ZQ(\"Eve (Person)\")\n",
       "    UgYKBEphY2s(\"Jack (Person)\")\n",
       "    UgYKBEphbmU(\"Jane (Person)\")\n",
       "    UgYKBEpvaG4(\"John (Person)\")\n",
       "    UgUKA0xpeg(\"Liz (Person)\")\n",
       "    UgYKBEx1Y3k(\"Lucy (Person)\")\n",
       "    UgYKBE1hcms(\"Mark (Person)\")\n",
       "    UgYKBE1hcnk(\"Mary (Person)\")\n",
       "    UgUKA1JvYg(\"Rob (Person)\")\n",
       "\r\n",
       "    UgYKBEFkYW0 -- Father --> UgYKBEphY2s\n",
       "    UgUKA0xpeg -- Father --> UgYKBEFkYW0\n",
       "    UgYKBEx1Y3k -- Father --> UgYKBEpvaG4\n",
       "    UgYKBE1hcms -- Father --> UgYKBEpvaG4\n",
       "    UgUKA1JvYg -- Father --> UgYKBEJ1cnQ\n",
       "    UgYKBEphY2s -- Child --> UgYKBEFkYW0\n",
       "    UgYKBEFkYW0 -- Child --> UgUKA0xpeg\n",
       "    UgYKBEpvaG4 -- Child --> UgYKBEx1Y3k\n",
       "    UgYKBEpvaG4 -- Child --> UgYKBE1hcms\n",
       "    UgYKBEJ1cnQ -- Child --> UgUKA1JvYg\n",
       "    UgYKBEphbmU -- Child --> UgYKBEJ1cnQ\n",
       "    UgUKA0V2ZQ -- Child --> UgYKBEphY2s\n",
       "    UgUKA0V2ZQ -- Child --> UgYKBEphbmU\n",
       "    UgYKBE1hcnk -- Child --> UgYKBEx1Y3k\n",
       "    UgYKBE1hcnk -- Child --> UgYKBE1hcms\n",
       "    UgYKBEphbmU -- Child --> UgYKBE1hcnk\n",
       "    UgYKBEJ1cnQ -- Mother --> UgYKBEphbmU\n",
       "    UgYKBEphY2s -- Mother --> UgUKA0V2ZQ\n",
       "    UgYKBEphbmU -- Mother --> UgUKA0V2ZQ\n",
       "    UgYKBEx1Y3k -- Mother --> UgYKBE1hcnk\n",
       "    UgYKBE1hcms -- Mother --> UgYKBE1hcnk\n",
       "    UgYKBE1hcnk -- Mother --> UgYKBEphbmU\n",
       "\r\n",
       "`);\r\n",
       "                renderTarget.innerHTML = svg;\r\n",
       "                bindFunctions?.(renderTarget);\r\n",
       "            }\r\n",
       "            catch (error) {\r\n",
       "                console.log(error);\r\n",
       "            }\r\n",
       "</script>\r\n",
       "</div>\r\n"
      ]
     },
     "metadata": {},
     "output_type": "display_data"
    }
   ],
   "source": [
    "let strip (s : string) = s.Replace(\"=\",\"\")\n",
    "\n",
    "let nodes = \n",
    "    space.Nodes \n",
    "    |> Seq.map      (fun n -> $\"    {strip n.SKey}(\\\"{n.Name} ({n.TypeName})\\\")\\n\")\n",
    "    |> Seq.fold     (fun a i  -> a + i) \"\"\n",
    "let edges = \n",
    "    space.Edges \n",
    "    |> Seq.filter   (fun e -> not (e.From = null || e.To = null))\n",
    "    |> Seq.map      (fun e -> $\"    {strip e.From.SKey} -- {e.TypeName} --> {strip e.To.SKey}\\n\")\n",
    "    |> Seq.fold     (fun a i -> a + i ) \"\"\n",
    "\n",
    "let mermaid = $\"\"\"\n",
    "flowchart TD \n",
    "{nodes}\n",
    "{edges}\n",
    "\"\"\"\n",
    "MermaidMarkdown (mermaid)\n"
   ]
  },
  {
   "cell_type": "markdown",
   "metadata": {},
   "source": [
    "# inferred relations\n",
    "\n",
    "[Cousins.hilang](./Cousins.hilang) includes the extension property ` Relatives   = relation (this)` that uses the `%function (unary, relation, Cousins.Helper.Relations, List<Path>); ` hilang declaration for the [Relations(Person person)][./Helper.cs#L14] function to recursively search for all relations.\n",
    "\n",
    "**NB** the client application has no knowledge of *how* the `Relative` is calculated, just that it is.\n",
    "\n",
    "In this example we retrieve the set of paths for each person (*excluding any null references*) and add to the `Paths` entity (that also provides a mapping to `Edge`)\n",
    "\n",
    "Finally, we render the graph using Mermaid\n",
    "\n",
    "##### This graph view demonstrates the common problem may graph visualizations : a spider-web of lines, but no clear view"
   ]
  },
  {
   "cell_type": "code",
   "execution_count": 14,
   "metadata": {
    "dotnet_interactive": {
     "language": "fsharp"
    },
    "polyglot_notebook": {
     "kernelName": "fsharp"
    }
   },
   "outputs": [
    {
     "data": {
      "text/html": [
       "<div class=\"mermaidMarkdownContainer\" style=\"background-color:white\">\r\n",
       "<link rel=\"stylesheet\" href=\"https://cdnjs.cloudflare.com/ajax/libs/font-awesome/6.2.0/css/all.min.css\">\r\n",
       "<div id=\"84442567c15c41c389fcf11327d9dc54\"></div>\r\n",
       "<script type=\"module\">\r\n",
       "\r\n",
       "            import mermaid from 'https://cdn.jsdelivr.net/npm/mermaid@10.6.1/dist/mermaid.esm.min.mjs';\r\n",
       "            let renderTarget = document.getElementById('84442567c15c41c389fcf11327d9dc54');\r\n",
       "            try {\r\n",
       "                const {svg, bindFunctions} = await mermaid.mermaidAPI.render( \r\n",
       "                    'mermaid_84442567c15c41c389fcf11327d9dc54', \r\n",
       "                    `\n",
       "flowchart TD \n",
       "    UgYKBEFkYW0(\"Adam (Person)\")\n",
       "    UgYKBEJ1cnQ(\"Burt (Person)\")\n",
       "    UgUKA0V2ZQ(\"Eve (Person)\")\n",
       "    UgYKBEphY2s(\"Jack (Person)\")\n",
       "    UgYKBEphbmU(\"Jane (Person)\")\n",
       "    UgYKBEpvaG4(\"John (Person)\")\n",
       "    UgUKA0xpeg(\"Liz (Person)\")\n",
       "    UgYKBEx1Y3k(\"Lucy (Person)\")\n",
       "    UgYKBE1hcms(\"Mark (Person)\")\n",
       "    UgYKBE1hcnk(\"Mary (Person)\")\n",
       "    UgUKA1JvYg(\"Rob (Person)\")\n",
       "\n",
       "    UgYKBEFkYW0 -- Father --> UgYKBEphY2s\n",
       "    UgUKA0xpeg -- Father --> UgYKBEFkYW0\n",
       "    UgYKBEx1Y3k -- Father --> UgYKBEpvaG4\n",
       "    UgYKBE1hcms -- Father --> UgYKBEpvaG4\n",
       "    UgUKA1JvYg -- Father --> UgYKBEJ1cnQ\n",
       "    UgYKBEphY2s -- Child --> UgYKBEFkYW0\n",
       "    UgYKBEFkYW0 -- Child --> UgUKA0xpeg\n",
       "    UgYKBEpvaG4 -- Child --> UgYKBEx1Y3k\n",
       "    UgYKBEpvaG4 -- Child --> UgYKBE1hcms\n",
       "    UgYKBEJ1cnQ -- Child --> UgUKA1JvYg\n",
       "    UgYKBEphbmU -- Child --> UgYKBEJ1cnQ\n",
       "    UgUKA0V2ZQ -- Child --> UgYKBEphY2s\n",
       "    UgUKA0V2ZQ -- Child --> UgYKBEphbmU\n",
       "    UgYKBE1hcnk -- Child --> UgYKBEx1Y3k\n",
       "    UgYKBE1hcnk -- Child --> UgYKBE1hcms\n",
       "    UgYKBEphbmU -- Child --> UgYKBE1hcnk\n",
       "    UgYKBEJ1cnQ -- Mother --> UgYKBEphbmU\n",
       "    UgYKBEphY2s -- Mother --> UgUKA0V2ZQ\n",
       "    UgYKBEphbmU -- Mother --> UgUKA0V2ZQ\n",
       "    UgYKBEx1Y3k -- Mother --> UgYKBE1hcnk\n",
       "    UgYKBE1hcms -- Mother --> UgYKBE1hcnk\n",
       "    UgYKBE1hcnk -- Mother --> UgYKBEphbmU\n",
       "    UgUKA0xpeg -- Great-GrandMother --> UgUKA0V2ZQ\n",
       "    UgUKA0xpeg -- Second-Cousin --> UgUKA1JvYg\n",
       "    UgUKA0xpeg -- Grandfather --> UgYKBEphY2s\n",
       "    UgUKA0xpeg -- Great-Aunt --> UgYKBEphbmU\n",
       "    UgUKA0xpeg -- Second-Cousin --> UgYKBEx1Y3k\n",
       "    UgUKA1JvYg -- Great-GrandMother --> UgUKA0V2ZQ\n",
       "    UgUKA1JvYg -- Second-Cousin --> UgUKA0xpeg\n",
       "    UgUKA1JvYg -- Aunt --> UgYKBE1hcnk\n",
       "    UgUKA1JvYg -- Great-Uncle --> UgYKBEphY2s\n",
       "    UgUKA1JvYg -- GrandMother --> UgYKBEphbmU\n",
       "    UgUKA1JvYg -- Cousin --> UgYKBEx1Y3k\n",
       "    UgYKBE1hcms -- Great-GrandMother --> UgUKA0V2ZQ\n",
       "    UgYKBE1hcms -- Second-Cousin --> UgUKA0xpeg\n",
       "    UgYKBE1hcms -- Cousin --> UgUKA1JvYg\n",
       "    UgYKBE1hcms -- Uncle --> UgYKBEJ1cnQ\n",
       "    UgYKBE1hcms -- Great-Uncle --> UgYKBEphY2s\n",
       "    UgYKBE1hcms -- GrandMother --> UgYKBEphbmU\n",
       "    UgYKBE1hcms -- Sister --> UgYKBEx1Y3k\n",
       "    UgYKBE1hcnk -- GrandMother --> UgUKA0V2ZQ\n",
       "    UgYKBE1hcnk -- Nephew --> UgUKA1JvYg\n",
       "    UgYKBE1hcnk -- Cousin --> UgYKBEFkYW0\n",
       "    UgYKBE1hcnk -- Brother --> UgYKBEJ1cnQ\n",
       "    UgYKBE1hcnk -- Uncle --> UgYKBEphY2s\n",
       "    UgYKBE1hcnk -- Parents --> UgYKBEpvaG4\n",
       "    UgYKBEFkYW0 -- GrandMother --> UgUKA0V2ZQ\n",
       "    UgYKBEFkYW0 -- Cousin --> UgYKBE1hcnk\n",
       "    UgYKBEFkYW0 -- Cousin --> UgYKBEJ1cnQ\n",
       "    UgYKBEFkYW0 -- Aunt --> UgYKBEphbmU\n",
       "    UgYKBEJ1cnQ -- GrandMother --> UgUKA0V2ZQ\n",
       "    UgYKBEJ1cnQ -- Sister --> UgYKBE1hcnk\n",
       "    UgYKBEJ1cnQ -- Cousin --> UgYKBEFkYW0\n",
       "    UgYKBEJ1cnQ -- Uncle --> UgYKBEphY2s\n",
       "    UgYKBEJ1cnQ -- Niece --> UgYKBEx1Y3k\n",
       "    UgYKBEphY2s -- Great-Nephew --> UgUKA1JvYg\n",
       "    UgYKBEphY2s -- Niece --> UgYKBE1hcnk\n",
       "    UgYKBEphY2s -- Nephew --> UgYKBEJ1cnQ\n",
       "    UgYKBEphY2s -- Sister --> UgYKBEphbmU\n",
       "    UgYKBEphY2s -- Great-Niece --> UgYKBEx1Y3k\n",
       "    UgYKBEphbmU -- Great-Niece --> UgUKA0xpeg\n",
       "    UgYKBEphbmU -- Nephew --> UgYKBEFkYW0\n",
       "    UgYKBEphbmU -- Brother --> UgYKBEphY2s\n",
       "    UgYKBEpvaG4 -- Parents --> UgYKBE1hcnk\n",
       "    UgYKBEx1Y3k -- Great-GrandMother --> UgUKA0V2ZQ\n",
       "    UgYKBEx1Y3k -- Second-Cousin --> UgUKA0xpeg\n",
       "    UgYKBEx1Y3k -- Cousin --> UgUKA1JvYg\n",
       "    UgYKBEx1Y3k -- Brother --> UgYKBE1hcms\n",
       "    UgYKBEx1Y3k -- Uncle --> UgYKBEJ1cnQ\n",
       "    UgYKBEx1Y3k -- Great-Uncle --> UgYKBEphY2s\n",
       "    UgYKBEx1Y3k -- GrandMother --> UgYKBEphbmU\n",
       "\n",
       "`);\r\n",
       "                renderTarget.innerHTML = svg;\r\n",
       "                bindFunctions?.(renderTarget);\r\n",
       "            }\r\n",
       "            catch (error) {\r\n",
       "                console.log(error);\r\n",
       "            }\r\n",
       "</script>\r\n",
       "</div>\r\n"
      ]
     },
     "metadata": {},
     "output_type": "display_data"
    }
   ],
   "source": [
    "let temp = new CousinsSpace(new GenerationSpace ([|new HeapSpace(); space|]))\n",
    "\n",
    "let relatives (p : Path seq) =\n",
    "    p\n",
    "    |> List.ofSeq\n",
    "    |> List.filter  (fun r -> not (r.From = null || r.To = null || r.TypeName = \"relation\" ))\n",
    "\n",
    "space.Persons \n",
    "|> List.ofSeq\n",
    "|> List.map         (fun p -> relatives p.Relatives)\n",
    "|> List.fold        (fun a i -> i @ a) []\n",
    "|> List.iter        (fun i -> temp.Paths.Add i |> ignore)\n",
    "\n",
    "let edges2 = \n",
    "    temp.Edges\n",
    "    |> List.ofSeq\n",
    "    |> List.filter  (fun r -> not (r.From = null || r.To = null || r.TypeName = \"relation\" ))\n",
    "    |> List.map     (fun e -> $\"    {strip (e.From.SKey)} -- {e.TypeName} --> {strip (e.To.SKey)}\\n\")\n",
    "    |> List.fold    (fun a i -> a + i ) \"\"\n",
    "\n",
    "let mermaid = $\"\"\"\n",
    "flowchart TD \n",
    "{nodes}\n",
    "{edges2}\n",
    "\"\"\"\n",
    "MermaidMarkdown (mermaid)\n"
   ]
  },
  {
   "cell_type": "markdown",
   "metadata": {},
   "source": [
    "# Just Lucy\n",
    "Filtering the set of direct relations and inferred paths to those from one person, shows their view of relations inferred by parents.  An update to any part of the graph changes the inferred relations without complex recalculation"
   ]
  },
  {
   "cell_type": "code",
   "execution_count": 15,
   "metadata": {
    "dotnet_interactive": {
     "language": "fsharp"
    },
    "polyglot_notebook": {
     "kernelName": "fsharp"
    }
   },
   "outputs": [
    {
     "data": {
      "text/html": [
       "<div class=\"mermaidMarkdownContainer\" style=\"background-color:white\">\r\n",
       "<link rel=\"stylesheet\" href=\"https://cdnjs.cloudflare.com/ajax/libs/font-awesome/6.2.0/css/all.min.css\">\r\n",
       "<div id=\"0f4c185e7c4246539477668b47cc1c2c\"></div>\r\n",
       "<script type=\"module\">\r\n",
       "\r\n",
       "            import mermaid from 'https://cdn.jsdelivr.net/npm/mermaid@10.6.1/dist/mermaid.esm.min.mjs';\r\n",
       "            let renderTarget = document.getElementById('0f4c185e7c4246539477668b47cc1c2c');\r\n",
       "            try {\r\n",
       "                const {svg, bindFunctions} = await mermaid.mermaidAPI.render( \r\n",
       "                    'mermaid_0f4c185e7c4246539477668b47cc1c2c', \r\n",
       "                    `\n",
       "flowchart TD \n",
       "    Lucy -- Father --> John\n",
       "    Lucy -- Mother --> Mary\n",
       "    Lucy -- Great-GrandMother --> Eve\n",
       "    Lucy -- Second-Cousin --> Liz\n",
       "    Lucy -- Cousin --> Rob\n",
       "    Lucy -- Brother --> Mark\n",
       "    Lucy -- Uncle --> Burt\n",
       "    Lucy -- Great-Uncle --> Jack\n",
       "    Lucy -- GrandMother --> Jane\n",
       "\n",
       "`);\r\n",
       "                renderTarget.innerHTML = svg;\r\n",
       "                bindFunctions?.(renderTarget);\r\n",
       "            }\r\n",
       "            catch (error) {\r\n",
       "                console.log(error);\r\n",
       "            }\r\n",
       "</script>\r\n",
       "</div>\r\n"
      ]
     },
     "metadata": {},
     "output_type": "display_data"
    }
   ],
   "source": [
    "let lucys = \n",
    "    temp.Edges\n",
    "    |> List.ofSeq\n",
    "    |> List.filter  (fun r -> not (r.From = null || r.To = null))\n",
    "    |> List.filter  (fun r -> r.From.Name = \"Lucy\")\n",
    "    |> List.map     (fun e -> $\"    {e.From.Name} -- {e.TypeName} --> {e.To.Name}\\n\")\n",
    "    |> List.fold    (fun a i -> a + i ) \"\"\n",
    "\n",
    "let mermaid = $\"\"\"\n",
    "flowchart TD \n",
    "{lucys}\n",
    "\"\"\"\n",
    "MermaidMarkdown (mermaid)\n"
   ]
  }
 ],
 "metadata": {
  "kernelspec": {
   "display_name": ".NET (F#)",
   "language": "F#",
   "name": ".net-fsharp"
  },
  "polyglot_notebook": {
   "kernelInfo": {
    "defaultKernelName": "fsharp",
    "items": [
     {
      "aliases": [],
      "languageName": "fsharp",
      "name": "fsharp"
     }
    ]
   }
  }
 },
 "nbformat": 4,
 "nbformat_minor": 2
}
