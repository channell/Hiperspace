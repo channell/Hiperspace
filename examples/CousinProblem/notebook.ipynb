{
 "cells": [
  {
   "cell_type": "markdown",
   "metadata": {},
   "source": [
    "# Setup references\n",
    "\n",
    "references are added to the Hiperspace and Mermaid nuget packages, together with `CousinProblem.dll` (compiled with `dotnet build` in the download directory)\n",
    "\n",
    "For this simple example, we're using the ` HeapSpace` driver (intended for mock and session usage), but the ` Hiperspace.Rocks` driver would be used for massive datasets"
   ]
  },
  {
   "cell_type": "code",
   "execution_count": 8,
   "metadata": {
    "dotnet_interactive": {
     "language": "fsharp"
    },
    "polyglot_notebook": {
     "kernelName": "fsharp"
    }
   },
   "outputs": [],
   "source": [
    "#r \"nuget: Hiperspace\"\n",
    "#r \"nuget: Hiperspace.Heap\"\n",
    "#r \"./bin/debug/net8.0/CousinProblem.dll\"\n",
    "#r \"nuget: Microsoft.DotNet.Interactive.Mermaid, 1.0.0-beta.24229.4\"\n",
    ";;\n"
   ]
  },
  {
   "cell_type": "markdown",
   "metadata": {},
   "source": [
    "# Setup sample data\n",
    "The same Sample Family tree from test cases, converted to F# syntax\n",
    "\n",
    "![Model](cousins-white.svg \"Title\")\n"
   ]
  },
  {
   "cell_type": "code",
   "execution_count": 10,
   "metadata": {
    "dotnet_interactive": {
     "language": "fsharp"
    },
    "polyglot_notebook": {
     "kernelName": "fsharp"
    }
   },
   "outputs": [],
   "source": [
    "open Hiperspace\n",
    "open Hiperspace.Heap\n",
    "open Cousins\n",
    "open Microsoft.DotNet.Interactive.Mermaid\n",
    "\n",
    "let driver = new HeapSpace()\n",
    "let space = new CousinsSpace (driver)\n",
    "\n",
    "let tree = \n",
    "  [\n",
    "    Person (Name = \"Eve\", Gender = Gender.Female);\n",
    "    Person (Name = \"Jane\", Gender = Gender.Female, Mother =  Person (Name = \"Eve\" ));\n",
    "    Person (Name = \"Jack\", Gender = Gender.Male, Mother =  Person (Name = \"Eve\" ));\n",
    "    Person (Name = \"Adam\", Gender = Gender.Male, Father =  Person (Name = \"Jack\" ));\n",
    "    Person (Name = \"Liz\", Gender = Gender.Female, Father =  Person (Name = \"Adam\" ));\n",
    "    Person (Name = \"Mary\", Gender = Gender.Female, Mother =  Person (Name = \"Jane\" ));\n",
    "    Person (Name = \"Burt\", Gender = Gender.Male, Mother=  Person (Name = \"Jane\" ));\n",
    "    Person (Name = \"Rob\", Gender = Gender.Male, Father =  Person (Name = \"Burt\" ));\n",
    "    Person (Name = \"John\", Gender = Gender.Male);\n",
    "    Person (Name = \"Lucy\", Gender = Gender.Female, Father =  Person (Name = \"John\" ), Mother =  Person (Name = \"Mary\" ));\n",
    "    Person (Name = \"Mark\", Gender = Gender.Male, Father =  Person (Name = \"John\" ), Mother =  Person (Name = \"Mary\"));\n",
    "  ]\n",
    "\n",
    "tree\n",
    "|> List.iter (fun i -> space.Persons.Bind (i, false) |> ignore)\n",
    ";;"
   ]
  },
  {
   "cell_type": "markdown",
   "metadata": {},
   "source": [
    "# simple graph\n",
    "\n",
    "`space.Nodes` is a view of all entity / segment / aspect that provide a mapping to the view. `nodes` a translation to Mermaid markup syntax,\n",
    "`space.Edges` is a view of all entity / segment / aspect that provide a mapping to the Edge view.  In this case, four elements per person (via `Edge2/3/4` intermediate views)\n",
    "\n",
    "```\n",
    "entity Cousins.Person\n",
    "    = Node (),\n",
    "      Edge  (From = this,   To = Mother, Name = Name, TypeName = \"Mother\"),\n",
    "      Edge2 (From = this,   To = Father, Name = Name, TypeName = \"Father\"),\n",
    "      Edge3 (From = Father, To = this,   Name = Name, TypeName = \"Child\"),\n",
    "      Edge4 (From = Mother, To = this,   Name = Name, TypeName = \"Child\")\n",
    "```\n",
    "\n",
    "When viewed as a graph, edges projected for Mother/Father and  Child relations\n",
    "\n",
    "The content is then rendered using  Mermaid visualization code"
   ]
  },
  {
   "cell_type": "code",
   "execution_count": 13,
   "metadata": {
    "dotnet_interactive": {
     "language": "fsharp"
    },
    "polyglot_notebook": {
     "kernelName": "fsharp"
    }
   },
   "outputs": [],
   "source": [
    "let strip (s : string) = s.Replace(\"=\",\"\")\n",
    "\n",
    "let nodes = \n",
    "    space.Nodes \n",
    "    |> Seq.map      (fun n -> $\"    {strip n.SKey}(\\\"{n.Name} ({n.TypeName})\\\")\\n\")\n",
    "    |> Seq.fold     (fun a i  -> a + i) \"\"\n",
    "let edges = \n",
    "    space.Edges \n",
    "    |> Seq.filter   (fun e -> not (e.From = null || e.To = null))\n",
    "    |> Seq.map      (fun e -> $\"    {strip e.From.SKey} -- {e.TypeName} --> {strip e.To.SKey}\\n\")\n",
    "    |> Seq.fold     (fun a i -> a + i ) \"\"\n",
    "\n",
    "let mermaid = $\"\"\"\n",
    "flowchart TD \n",
    "{nodes}\n",
    "{edges}\n",
    "\"\"\"\n",
    "MermaidMarkdown (mermaid)\n"
   ]
  },
  {
   "cell_type": "markdown",
   "metadata": {},
   "source": [
    "# inferred relations\n",
    "\n",
    "[Cousins.hilang](./Cousins.hilang) includes the extension property ` Relatives   = relation (this)` that uses the `%function (unary, relation, Cousins.Helper.Relations, List<Path>); ` hilang declaration for the [Relations(Person person)][./Helper.cs#L14] function to recursively search for all relations.\n",
    "\n",
    "**NB** the client application has no knowledge of *how* the `Relative` is calculated, just that it is.\n",
    "\n",
    "In this example we retrieve the set of paths for each person (*excluding any null references*) and add to the `Paths` entity (that also provides a mapping to `Edge`)\n",
    "\n",
    "Finally, we render the graph using Mermaid\n",
    "\n",
    "##### This graph view demonstrates the common problem may graph visualizations : a spider-web of lines, but no clear view"
   ]
  },
  {
   "cell_type": "code",
   "execution_count": 14,
   "metadata": {
    "dotnet_interactive": {
     "language": "fsharp"
    },
    "polyglot_notebook": {
     "kernelName": "fsharp"
    }
   },
   "outputs": [],
   "source": [
    "let temp = new CousinsSpace(new GenerationSpace ([|new HeapSpace(); space|]))\n",
    "\n",
    "let relatives (p : Path seq) =\n",
    "    p\n",
    "    |> List.ofSeq\n",
    "    |> List.filter  (fun r -> not (r.From = null || r.To = null || r.TypeName = \"relation\" ))\n",
    "\n",
    "space.Persons \n",
    "|> List.ofSeq\n",
    "|> List.map         (fun p -> relatives p.Relatives)\n",
    "|> List.fold        (fun a i -> i @ a) []\n",
    "|> List.iter        (fun i -> temp.Paths.Add i |> ignore)\n",
    "\n",
    "let edges2 = \n",
    "    temp.Edges\n",
    "    |> List.ofSeq\n",
    "    |> List.filter  (fun r -> not (r.From = null || r.To = null || r.TypeName = \"relation\" ))\n",
    "    |> List.map     (fun e -> $\"    {strip (e.From.SKey)} -- {e.TypeName} --> {strip (e.To.SKey)}\\n\")\n",
    "    |> List.fold    (fun a i -> a + i ) \"\"\n",
    "\n",
    "let mermaid = $\"\"\"\n",
    "flowchart TD \n",
    "{nodes}\n",
    "{edges2}\n",
    "\"\"\"\n",
    "MermaidMarkdown (mermaid)\n"
   ]
  },
  {
   "cell_type": "markdown",
   "metadata": {},
   "source": [
    "# Just Lucy\n",
    "Filtering the set of direct relations and inferred paths to those from one person, shows their view of relations inferred by parents.  An update to any part of the graph changes the inferred relations without complex recalculation"
   ]
  },
  {
   "cell_type": "code",
   "execution_count": 15,
   "metadata": {
    "dotnet_interactive": {
     "language": "fsharp"
    },
    "polyglot_notebook": {
     "kernelName": "fsharp"
    }
   },
   "outputs": [],
   "source": [
    "let lucys = \n",
    "    temp.Edges\n",
    "    |> List.ofSeq\n",
    "    |> List.filter  (fun r -> not (r.From = null || r.To = null))\n",
    "    |> List.filter  (fun r -> r.From.Name = \"Lucy\")\n",
    "    |> List.map     (fun e -> $\"    {e.From.Name} -- {e.TypeName} --> {e.To.Name}\\n\")\n",
    "    |> List.fold    (fun a i -> a + i ) \"\"\n",
    "\n",
    "let mermaid = $\"\"\"\n",
    "flowchart TD \n",
    "{lucys}\n",
    "\"\"\"\n",
    "MermaidMarkdown (mermaid)\n"
   ]
  }
 ],
 "metadata": {
  "kernelspec": {
   "display_name": ".NET (F#)",
   "language": "F#",
   "name": ".net-fsharp"
  },
  "polyglot_notebook": {
   "kernelInfo": {
    "defaultKernelName": "fsharp",
    "items": [
     {
      "aliases": [],
      "languageName": "fsharp",
      "name": "fsharp"
     }
    ]
   }
  }
 },
 "nbformat": 4,
 "nbformat_minor": 2
}
