{
 "cells": [
  {
   "cell_type": "markdown",
   "metadata": {},
   "source": [
    "# Setup references"
   ]
  },
  {
   "cell_type": "code",
   "execution_count": null,
   "metadata": {
    "dotnet_interactive": {
     "language": "fsharp"
    },
    "polyglot_notebook": {
     "kernelName": "fsharp"
    }
   },
   "outputs": [],
   "source": [
    "#r \"nuget: Hiperspace\"\n",
    "#r \"nuget: Hiperspace.Heap\"\n",
    "#r \"./bin/debug/net8.0/CousinProblem.dll\"\n",
    "#r \"nuget: Microsoft.DotNet.Interactive.Mermaid, 1.0.0-beta.24229.4\"\n",
    ";;\n",
    "open Hiperspace\n",
    "open Hiperspace.Heap\n",
    "open Cousins\n",
    "open Microsoft.DotNet.Interactive.Mermaid\n",
    ";;\n"
   ]
  },
  {
   "cell_type": "markdown",
   "metadata": {},
   "source": [
    "# Setup sample data"
   ]
  },
  {
   "cell_type": "code",
   "execution_count": null,
   "metadata": {
    "dotnet_interactive": {
     "language": "fsharp"
    },
    "polyglot_notebook": {
     "kernelName": "fsharp"
    }
   },
   "outputs": [],
   "source": [
    "open Hiperspace\n",
    "open Hiperspace.Heap\n",
    "open Cousins\n",
    "open Microsoft.DotNet.Interactive.Mermaid\n",
    "\n",
    "let driver = new HeapSpace()\n",
    "let space = new CousinsSpace (driver)\n",
    "\n",
    "let tree = \n",
    "  [\n",
    "    Person (Name = \"Eve\", Gender = Gender.Female);\n",
    "    Person (Name = \"Jane\", Gender = Gender.Female, Mother =  Person (Name = \"Eve\" ));\n",
    "    Person (Name = \"Jack\", Gender = Gender.Male, Mother =  Person (Name = \"Eve\" ));\n",
    "    Person (Name = \"Adam\", Gender = Gender.Male, Father =  Person (Name = \"Jack\" ));\n",
    "    Person (Name = \"Liz\", Gender = Gender.Female, Father =  Person (Name = \"Adam\" ));\n",
    "    Person (Name = \"Mary\", Gender = Gender.Female, Mother =  Person (Name = \"Jane\" ));\n",
    "    Person (Name = \"Burt\", Gender = Gender.Male, Mother=  Person (Name = \"Jane\" ));\n",
    "    Person (Name = \"Rob\", Gender = Gender.Male, Father =  Person (Name = \"Burt\" ));\n",
    "    Person (Name = \"John\", Gender = Gender.Male);\n",
    "    Person (Name = \"Lucy\", Gender = Gender.Female, Father =  Person (Name = \"John\" ), Mother =  Person (Name = \"Mary\" ));\n",
    "    Person (Name = \"Mark\", Gender = Gender.Male, Father =  Person (Name = \"John\" ), Mother =  Person (Name = \"Mary\"));\n",
    "  ]\n",
    "\n",
    "tree\n",
    "|> List.iter (fun i -> space.Persons.Bind (i, false) |> ignore)\n",
    ";;"
   ]
  },
  {
   "cell_type": "markdown",
   "metadata": {},
   "source": [
    "# simple graph\n",
    "show the graph with fitect relations"
   ]
  },
  {
   "cell_type": "code",
   "execution_count": null,
   "metadata": {
    "dotnet_interactive": {
     "language": "fsharp"
    },
    "polyglot_notebook": {
     "kernelName": "fsharp"
    }
   },
   "outputs": [],
   "source": [
    "open Microsoft.DotNet.Interactive.Mermaid\n",
    "let strip (s : string) = s.Replace(\"=\",\"\")\n",
    "\n",
    "let nodes = \n",
    "    space.Nodes \n",
    "    |> Seq.map      (fun n -> $\"    {strip n.SKey}(\\\"{n.Name} ({n.TypeName})\\\")\\n\")\n",
    "    |> Seq.fold     (fun a i  -> a + i) \"\"\n",
    "let edges = \n",
    "    space.Edges \n",
    "    |> Seq.filter   (fun e -> not (e.From = null || e.To = null))\n",
    "    |> Seq.map      (fun e -> $\"    {strip e.From.SKey} -- {e.TypeName} --> {strip e.To.SKey}\\n\")\n",
    "    |> Seq.fold     (fun a i -> a + i ) \"\"\n",
    "\n",
    "let mermaid = $\"\"\"\n",
    "flowchart TD \n",
    "{nodes}\n",
    "{edges}\n",
    "\"\"\"\n",
    "MermaidMarkdown (mermaid)\n"
   ]
  },
  {
   "cell_type": "markdown",
   "metadata": {},
   "source": [
    "# inferred relations"
   ]
  },
  {
   "cell_type": "code",
   "execution_count": null,
   "metadata": {
    "dotnet_interactive": {
     "language": "fsharp"
    },
    "polyglot_notebook": {
     "kernelName": "fsharp"
    }
   },
   "outputs": [],
   "source": [
    "let temp = new CousinsSpace(new GenerationSpace ([|new HeapSpace(); space|]))\n",
    "\n",
    "let relatives (p : Path seq) =\n",
    "    p\n",
    "    |> List.ofSeq\n",
    "    |> List.filter  (fun r -> not (r.From = null || r.To = null || r.TypeName = \"relation\" ))\n",
    "\n",
    "space.Persons \n",
    "|> List.ofSeq\n",
    "|> List.map         (fun p -> relatives p.Relatives)\n",
    "|> List.fold        (fun a i -> i @ a) []\n",
    "|> List.iter        (fun i -> temp.Paths.Add i |> ignore)\n",
    "\n",
    "let edges2 = \n",
    "    temp.Edges\n",
    "    |> List.ofSeq\n",
    "    |> List.filter  (fun r -> not (r.From = null || r.To = null || r.TypeName = \"relation\" ))\n",
    "    |> List.map     (fun e -> e, match e.TypeName with | \"Mother\" | \"Father\" | \"Child\" -> \"-\" | _ -> \".\")\n",
    "    |> List.map     (fun (e, c) -> $\"    {strip (e.From.SKey)} {c}- {e.TypeName} {c}-> {strip (e.To.SKey)}\\n\")\n",
    "    |> List.fold    (fun a i -> a + i ) \"\"\n",
    "\n",
    "let mermaid = $\"\"\"\n",
    "flowchart TD \n",
    "{nodes}\n",
    "{edges2}\n",
    "\"\"\"\n",
    "MermaidMarkdown (mermaid)\n"
   ]
  }
 ],
 "metadata": {
  "kernelspec": {
   "display_name": ".NET (F#)",
   "language": "F#",
   "name": ".net-fsharp"
  },
  "polyglot_notebook": {
   "kernelInfo": {
    "defaultKernelName": "fsharp",
    "items": [
     {
      "aliases": [],
      "languageName": "fsharp",
      "name": "fsharp"
     }
    ]
   }
  }
 },
 "nbformat": 4,
 "nbformat_minor": 2
}
