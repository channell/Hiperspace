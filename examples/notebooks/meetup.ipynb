{
 "cells": [
  {
   "cell_type": "markdown",
   "metadata": {},
   "source": [
    "# Setup\n",
    "Add references to the nuget packages for Hiperspace\n"
   ]
  },
  {
   "cell_type": "code",
   "execution_count": null,
   "metadata": {
    "dotnet_interactive": {
     "language": "fsharp"
    },
    "polyglot_notebook": {
     "kernelName": "fsharp"
    }
   },
   "outputs": [
    {
     "data": {
      "text/html": [
       "<div><div></div><div></div><div><strong>Installed Packages</strong><ul><li><span>FSharp.Core, 9.0.100</span></li><li><span>Hiperspace, 1.3.9</span></li><li><span>Hiperspace.Rocks, 1.3.9</span></li><li><span>Hiperspace.SQL, 1.0.5</span></li><li><span>IronCompress, 1.6.3</span></li><li><span>Microsoft.DotNet.Interactive.Mermaid, 1.0.0-beta.24565.1</span></li><li><span>Microsoft.IO.RecyclableMemoryStream, 3.0.1</span></li></ul></div></div>"
      ]
     },
     "metadata": {},
     "output_type": "display_data"
    }
   ],
   "source": [
    "#r \"nuget: Hiperspace\"\n",
    "#r \"nuget: Hiperspace.Rocks\"\n",
    "#r \"nuget: Hiperspace.SQL\"\n",
    "#r \"nuget: FSharp.Core\"\n",
    "#r \"nuget: IronCompress\"\n",
    "#r \"nuget: Microsoft.IO.RecyclableMemoryStream\"\n",
    "#r \"nuget: Microsoft.DotNet.Interactive.Mermaid, 1.0.0-beta.24565.1\"\n",
    "#r \"C:\\\\dev\\\\source\\\\repos\\\\HiperspaceHub\\\\examples\\\\Hiperspace.Sparx\\\\bin\\\\Release\\\\net9.0\\\\Hiperspace.Sparx\"\n",
    ";;\n",
    "let markdown (source : IDictionary<string, obj array> array) =\n",
    "    let asMarkDown (source : IDictionary<string, obj array>) = \n",
    "        let asArray = \n",
    "            source\n",
    "            |> Seq.map  (fun kv -> (kv.Key, kv.Value |> Array.map (fun i -> if i <> null then i.ToString() else \"\")))\n",
    "            |> Array.ofSeq\n",
    "\n",
    "        let colwidths =\n",
    "            asArray \n",
    "            |> Array.map    (fun (k,v) -> v |> Array.fold (fun a i -> if i.Length > a then i.Length else a) 0)\n",
    "            |> Array.mapi   (fun n i -> if i < (fst asArray[n]).Length then (fst asArray[n]).Length else i)\n",
    "\n",
    "        let collength =\n",
    "            asArray \n",
    "            |> Array.fold (fun a (k,v) -> if a = 0 then v.Length elif a > v.Length then a else v.Length) 0\n",
    "\n",
    "        let sb = System.Text.StringBuilder()\n",
    "\n",
    "        asArray |> Array.iteri      (fun n (k,v) -> sb.Append(\"|\").Append(k).Append(' ', colwidths[n] - k.Length) |> ignore)\n",
    "        sb.AppendLine(\"|\") |> ignore\n",
    "        colwidths |> Array.iter     (fun i -> sb.Append(\"|\").Append('-', i) |> ignore)\n",
    "        sb.AppendLine(\"|\") |> ignore\n",
    "\n",
    "        for r in 0..(collength - 1) do\n",
    "            for c in 0..(colwidths.Length - 1) do\n",
    "                sb.Append(\"|\") |> ignore\n",
    "                let i = (snd asArray[c])[r]\n",
    "                sb.Append(i) |> ignore\n",
    "                sb.Append(' ', (colwidths[c] - i.Length)) |> ignore\n",
    "            sb.AppendLine(\"|\") |> ignore\n",
    "\n",
    "        sb.ToString()\n",
    "    source |> Array.fold (fun a i -> a + asMarkDown i) \"\"\n"
   ]
  },
  {
   "cell_type": "markdown",
   "metadata": {},
   "source": [
    "# open hiperspace\n"
   ]
  },
  {
   "cell_type": "code",
   "execution_count": null,
   "metadata": {
    "dotnet_interactive": {
     "language": "fsharp"
    },
    "polyglot_notebook": {
     "kernelName": "fsharp"
    }
   },
   "outputs": [
    {
     "ename": "Error",
     "evalue": "System.IO.FileNotFoundException: Could not load file or assembly 'FSharp.Core, Version=9.0.0.0, Culture=neutral, PublicKeyToken=b03f5f7f11d50a3a'. The system cannot find the file specified.\r\nFile name: 'FSharp.Core, Version=9.0.0.0, Culture=neutral, PublicKeyToken=b03f5f7f11d50a3a'\r\n   at System.ModuleHandle.ResolveType(QCallModule module, Int32 typeToken, IntPtr* typeInstArgs, Int32 typeInstCount, IntPtr* methodInstArgs, Int32 methodInstCount, ObjectHandleOnStack type)\r\n   at System.ModuleHandle.ResolveTypeHandle(Int32 typeToken, RuntimeTypeHandle[] typeInstantiationContext, RuntimeTypeHandle[] methodInstantiationContext)\r\n   at System.Reflection.RuntimeModule.ResolveType(Int32 metadataToken, Type[] genericTypeArguments, Type[] genericMethodArguments)\r\n   at System.Reflection.CustomAttribute.FilterCustomAttributeRecord(MetadataToken caCtorToken, MetadataImport& scope, RuntimeModule decoratedModule, MetadataToken decoratedToken, RuntimeType attributeFilterType, Boolean mustBeInheritable, ListBuilder`1& derivedAttributes, RuntimeType& attributeType, IRuntimeMethodInfo& ctorWithParameters, Boolean& isVarArg)\r\n   at System.Reflection.CustomAttribute.IsCustomAttributeDefined(RuntimeModule decoratedModule, Int32 decoratedMetadataToken, RuntimeType attributeFilterType, Int32 attributeCtorToken, Boolean mustBeInheritable)\r\n   at System.Reflection.CustomAttribute.IsDefined(RuntimeType type, RuntimeType caType, Boolean inherit)\r\n   at System.Diagnostics.StackTrace.ToString(TraceFormat traceFormat, StringBuilder sb)\r\n   at System.Diagnostics.StackTrace.ToString(TraceFormat traceFormat)\r\n   at System.Exception.get_StackTrace()\r\n   at System.IO.FileNotFoundException.ToString()\r\n   at Microsoft.DotNet.Interactive.Events.CommandFailed..ctor(Exception exception, KernelCommand command, String message, Nullable`1 executionOrder) in D:\\a\\_work\\1\\s\\src\\Microsoft.DotNet.Interactive\\Events\\CommandFailed.cs:line 25\r\n   at Microsoft.DotNet.Interactive.KernelInvocationContext.SucceedOrFail(Boolean succeed, KernelCommand command, Exception exception, String message) in D:\\a\\_work\\1\\s\\src\\Microsoft.DotNet.Interactive\\KernelInvocationContext.cs:line 166\r\n   at Microsoft.DotNet.Interactive.KernelInvocationContext.Fail(KernelCommand command, Exception exception, String message) in D:\\a\\_work\\1\\s\\src\\Microsoft.DotNet.Interactive\\KernelInvocationContext.cs:line 114\r\n   at <StartupCode$Microsoft-DotNet-Interactive-FSharp>.$FSharpKernel.clo@191-3.MoveNext() in D:\\a\\_work\\1\\s\\src\\Microsoft.DotNet.Interactive.FSharp\\FSharpKernel.fs:line 236\r\n   at Microsoft.DotNet.Interactive.Kernel.HandleAsync(KernelCommand command, KernelInvocationContext context) in D:\\a\\_work\\1\\s\\src\\Microsoft.DotNet.Interactive\\Kernel.cs:line 365\r\n   at Microsoft.DotNet.Interactive.KernelCommandPipeline.<BuildPipeline>b__6_0(KernelCommand command, KernelInvocationContext context, KernelPipelineContinuation _) in D:\\a\\_work\\1\\s\\src\\Microsoft.DotNet.Interactive\\KernelCommandPipeline.cs:line 60\r\n   at Microsoft.DotNet.Interactive.KernelCommandPipeline.SendAsync(KernelCommand command, KernelInvocationContext context) in D:\\a\\_work\\1\\s\\src\\Microsoft.DotNet.Interactive\\KernelCommandPipeline.cs:line 41",
     "output_type": "error",
     "traceback": [
      "System.IO.FileNotFoundException: Could not load file or assembly 'FSharp.Core, Version=9.0.0.0, Culture=neutral, PublicKeyToken=b03f5f7f11d50a3a'. The system cannot find the file specified.\r\n",
      "File name: 'FSharp.Core, Version=9.0.0.0, Culture=neutral, PublicKeyToken=b03f5f7f11d50a3a'\r\n",
      "   at System.ModuleHandle.ResolveType(QCallModule module, Int32 typeToken, IntPtr* typeInstArgs, Int32 typeInstCount, IntPtr* methodInstArgs, Int32 methodInstCount, ObjectHandleOnStack type)\r\n",
      "   at System.ModuleHandle.ResolveTypeHandle(Int32 typeToken, RuntimeTypeHandle[] typeInstantiationContext, RuntimeTypeHandle[] methodInstantiationContext)\r\n",
      "   at System.Reflection.RuntimeModule.ResolveType(Int32 metadataToken, Type[] genericTypeArguments, Type[] genericMethodArguments)\r\n",
      "   at System.Reflection.CustomAttribute.FilterCustomAttributeRecord(MetadataToken caCtorToken, MetadataImport& scope, RuntimeModule decoratedModule, MetadataToken decoratedToken, RuntimeType attributeFilterType, Boolean mustBeInheritable, ListBuilder`1& derivedAttributes, RuntimeType& attributeType, IRuntimeMethodInfo& ctorWithParameters, Boolean& isVarArg)\r\n",
      "   at System.Reflection.CustomAttribute.IsCustomAttributeDefined(RuntimeModule decoratedModule, Int32 decoratedMetadataToken, RuntimeType attributeFilterType, Int32 attributeCtorToken, Boolean mustBeInheritable)\r\n",
      "   at System.Reflection.CustomAttribute.IsDefined(RuntimeType type, RuntimeType caType, Boolean inherit)\r\n",
      "   at System.Diagnostics.StackTrace.ToString(TraceFormat traceFormat, StringBuilder sb)\r\n",
      "   at System.Diagnostics.StackTrace.ToString(TraceFormat traceFormat)\r\n",
      "   at System.Exception.get_StackTrace()\r\n",
      "   at System.IO.FileNotFoundException.ToString()\r\n",
      "   at Microsoft.DotNet.Interactive.Events.CommandFailed..ctor(Exception exception, KernelCommand command, String message, Nullable`1 executionOrder) in D:\\a\\_work\\1\\s\\src\\Microsoft.DotNet.Interactive\\Events\\CommandFailed.cs:line 25\r\n",
      "   at Microsoft.DotNet.Interactive.KernelInvocationContext.SucceedOrFail(Boolean succeed, KernelCommand command, Exception exception, String message) in D:\\a\\_work\\1\\s\\src\\Microsoft.DotNet.Interactive\\KernelInvocationContext.cs:line 166\r\n",
      "   at Microsoft.DotNet.Interactive.KernelInvocationContext.Fail(KernelCommand command, Exception exception, String message) in D:\\a\\_work\\1\\s\\src\\Microsoft.DotNet.Interactive\\KernelInvocationContext.cs:line 114\r\n",
      "   at <StartupCode$Microsoft-DotNet-Interactive-FSharp>.$FSharpKernel.clo@191-3.MoveNext() in D:\\a\\_work\\1\\s\\src\\Microsoft.DotNet.Interactive.FSharp\\FSharpKernel.fs:line 236\r\n",
      "   at Microsoft.DotNet.Interactive.Kernel.HandleAsync(KernelCommand command, KernelInvocationContext context) in D:\\a\\_work\\1\\s\\src\\Microsoft.DotNet.Interactive\\Kernel.cs:line 365\r\n",
      "   at Microsoft.DotNet.Interactive.KernelCommandPipeline.<BuildPipeline>b__6_0(KernelCommand command, KernelInvocationContext context, KernelPipelineContinuation _) in D:\\a\\_work\\1\\s\\src\\Microsoft.DotNet.Interactive\\KernelCommandPipeline.cs:line 60\r\n",
      "   at Microsoft.DotNet.Interactive.KernelCommandPipeline.SendAsync(KernelCommand command, KernelInvocationContext context) in D:\\a\\_work\\1\\s\\src\\Microsoft.DotNet.Interactive\\KernelCommandPipeline.cs:line 41"
     ]
    }
   ],
   "source": [
    "open Hiperspace.Rocks\n",
    "open Hiperspace.SQL\n",
    "open Sparx\n",
    "open Sparx.EA\n",
    "\n",
    "let rocks = @\"C:\\Hiperspace\\Sparx\"\n",
    "let ssd = new RockSpace(rocks, MetaModel(), false, true)\n",
    "let space = new SparxSpace(ssd)\n",
    "let sql = new Engine(space)\n",
    "\n",
    "sql.Execute (\"select * from SCHEMA_TABLES\", null)\n",
    "\n"
   ]
  },
  {
   "cell_type": "code",
   "execution_count": null,
   "metadata": {
    "dotnet_interactive": {
     "language": "fsharp"
    },
    "polyglot_notebook": {
     "kernelName": "fsharp"
    }
   },
   "outputs": [],
   "source": [
    "#r \"nuget: FSharp.Core\"\n",
    "open Hiperspace.Rocks\n",
    "open Hiperspace.SQL\n",
    "open Sparx\n",
    "open Sparx.EA\n",
    "\n",
    "let rocks = @\"C:\\Hiperspace\\Sparx\"\n",
    "let ssd = new RockSpace(rocks, MetaModel(), false, true)\n",
    "let space = new SparxSpace(ssd)\n",
    "let sql = new Engine(space)\n",
    "\n",
    "sql.Execute (\"select * from SCHEMA_TABLES\", null)\n"
   ]
  }
 ],
 "metadata": {
  "kernelspec": {
   "display_name": ".NET (F#)",
   "language": "F#",
   "name": ".net-fsharp"
  },
  "polyglot_notebook": {
   "kernelInfo": {
    "defaultKernelName": "fsharp",
    "items": [
     {
      "aliases": [],
      "languageName": "fsharp",
      "name": "fsharp"
     }
    ]
   }
  }
 },
 "nbformat": 4,
 "nbformat_minor": 2
}
